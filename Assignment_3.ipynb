{
 "cells": [
  {
   "cell_type": "markdown",
   "id": "ee82abd1",
   "metadata": {},
   "source": [
    "Q1. Why are functions advantageous to have in your programs?"
   ]
  },
  {
   "cell_type": "markdown",
   "id": "ab6dce77",
   "metadata": {},
   "source": [
    "Code can be broken down into modules and can be reused when required by calling the function.\n",
    "\n",
    "Eliminates duplication of code.\n",
    "\n",
    "Saves debugging time, error fixing / modifications can be done in one place."
   ]
  },
  {
   "cell_type": "markdown",
   "id": "91394f50",
   "metadata": {},
   "source": [
    "Q2. When does the code in a function run: when it's specified or when it's called?"
   ]
  },
  {
   "cell_type": "markdown",
   "id": "02544d08",
   "metadata": {},
   "source": [
    "Code in function is executed when the function is called."
   ]
  },
  {
   "cell_type": "markdown",
   "id": "d6caddb5",
   "metadata": {},
   "source": [
    "Q3. What statement creates a function?"
   ]
  },
  {
   "cell_type": "markdown",
   "id": "038eb70d",
   "metadata": {},
   "source": [
    "the def keyword creates a function.\n",
    "\n",
    "Eg:\n",
    "    \n",
    "def func():"
   ]
  },
  {
   "cell_type": "markdown",
   "id": "d9f418ad",
   "metadata": {},
   "source": [
    "Q4. What is the difference between a function and a function call?"
   ]
  },
  {
   "cell_type": "markdown",
   "id": "93b5d41c",
   "metadata": {},
   "source": [
    "Function is defined by the def keyword followed by function name and parameters (if any) in parentheses. Code inside the function is not executed during the time of definition.\n",
    "\n",
    "Function call is the execution of the function when it is called by writing the function name with parentheses and arguments (is any) are passed to the function through parentheses. After execution, control is transferred back to the calling function."
   ]
  },
  {
   "cell_type": "markdown",
   "id": "1beded12",
   "metadata": {},
   "source": [
    "Q5. How many global scopes are there in a Python program? How many local scopes?"
   ]
  },
  {
   "cell_type": "markdown",
   "id": "e20c42c5",
   "metadata": {},
   "source": [
    "There is one global scope.\n",
    "\n",
    "Every function has its own local scope."
   ]
  },
  {
   "cell_type": "markdown",
   "id": "128e470a",
   "metadata": {},
   "source": [
    "Q6. What happens to variables in a local scope when the function call returns?"
   ]
  },
  {
   "cell_type": "markdown",
   "id": "cb0ba2c9",
   "metadata": {},
   "source": [
    "Variables in a local scope are destroyed when a function call returns."
   ]
  },
  {
   "cell_type": "markdown",
   "id": "1e65cb16",
   "metadata": {},
   "source": [
    "Q7. What is the concept of a return value? Is it possible to have a return value in an expression?"
   ]
  },
  {
   "cell_type": "markdown",
   "id": "0ebc4604",
   "metadata": {},
   "source": [
    "Return value is the value that is evaluated in the function call, and passed back to the calling function. If not specified, return value is None.\n",
    "\n",
    "Yes, an expression can be evaluated to a return value."
   ]
  },
  {
   "cell_type": "markdown",
   "id": "43034b74",
   "metadata": {},
   "source": [
    "Q8. If a function does not have a return statement, what is the return value of a call to that function?"
   ]
  },
  {
   "cell_type": "markdown",
   "id": "3dacb020",
   "metadata": {},
   "source": [
    "None"
   ]
  },
  {
   "cell_type": "markdown",
   "id": "446dabd0",
   "metadata": {},
   "source": [
    "Q9. How do you make a function variable refer to the global variable?"
   ]
  },
  {
   "cell_type": "markdown",
   "id": "0c836069",
   "metadata": {},
   "source": [
    "We can make a function variable refer to the global variable by using the keyword global"
   ]
  },
  {
   "cell_type": "markdown",
   "id": "8bb9bd5f",
   "metadata": {},
   "source": [
    "Q10. What is the data type of None?"
   ]
  },
  {
   "cell_type": "markdown",
   "id": "53e616b3",
   "metadata": {},
   "source": [
    "NoneType"
   ]
  },
  {
   "cell_type": "markdown",
   "id": "76ad0182",
   "metadata": {},
   "source": [
    "Q11. What does the sentence import areallyourpetsnamederic do?"
   ]
  },
  {
   "cell_type": "markdown",
   "id": "a17c09ed",
   "metadata": {},
   "source": [
    "Tries to import a module named areallyourpetsnamederic."
   ]
  },
  {
   "cell_type": "markdown",
   "id": "6b6ff53d",
   "metadata": {},
   "source": [
    "Q12. If you had a bacon() feature in a spam module, how would you call it after importing spam?"
   ]
  },
  {
   "cell_type": "markdown",
   "id": "3698ec38",
   "metadata": {},
   "source": [
    "spam.bacon()"
   ]
  },
  {
   "cell_type": "markdown",
   "id": "445e0205",
   "metadata": {},
   "source": [
    "Q13. What can you do to save a programme from crashing if it encounters an error?"
   ]
  },
  {
   "cell_type": "markdown",
   "id": "f007ef35",
   "metadata": {},
   "source": [
    "Nothing can be done in case of a syntax error, in case of a runtime error occurring, we can avoid it by enclosing the potentially suspicious code in a try block and handling the error through the except block."
   ]
  },
  {
   "cell_type": "markdown",
   "id": "2735133c",
   "metadata": {},
   "source": [
    "Q14. What is the purpose of the try clause? What is the purpose of the except clause?"
   ]
  },
  {
   "cell_type": "markdown",
   "id": "6f053d13",
   "metadata": {},
   "source": [
    "If a code is suspicious and it could potentially cause an error, we can place the code in a try block.\n",
    "\n",
    "The alternate code to be executed in case of an runtime error encountered in try block is placed in the except block."
   ]
  }
 ],
 "metadata": {
  "kernelspec": {
   "display_name": "Python 3 (ipykernel)",
   "language": "python",
   "name": "python3"
  },
  "language_info": {
   "codemirror_mode": {
    "name": "ipython",
    "version": 3
   },
   "file_extension": ".py",
   "mimetype": "text/x-python",
   "name": "python",
   "nbconvert_exporter": "python",
   "pygments_lexer": "ipython3",
   "version": "3.9.7"
  }
 },
 "nbformat": 4,
 "nbformat_minor": 5
}
