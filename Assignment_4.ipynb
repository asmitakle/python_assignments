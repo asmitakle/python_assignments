{
 "cells": [
  {
   "cell_type": "markdown",
   "id": "85f0c903",
   "metadata": {},
   "source": [
    "Q1. What exactly is []?"
   ]
  },
  {
   "cell_type": "markdown",
   "id": "83972952",
   "metadata": {},
   "source": [
    "It is an empty list or an indexing operator. Can also be used for slicing.\n",
    "\n",
    "Eg: \n",
    "\n",
    "my_list = [] creates an empty list\n",
    "\n",
    "list1 = ['a', 'b', 'c']\n",
    "\n",
    "list1[1] is 'b'\n",
    "\n",
    "list2 = list1[1:]\n",
    "\n",
    "list2 is ['b', 'c']"
   ]
  },
  {
   "cell_type": "markdown",
   "id": "9899484c",
   "metadata": {},
   "source": [
    "Q2. In a list of values stored in a variable called spam, how would you assign the value 'hello' as the third value? (Assume [2, 4, 6, 8, 10] are in spam.)"
   ]
  },
  {
   "cell_type": "markdown",
   "id": "a222eb6c",
   "metadata": {},
   "source": [
    "spam[2] = 'hello'"
   ]
  },
  {
   "cell_type": "markdown",
   "id": "78193b51",
   "metadata": {},
   "source": [
    "Let's pretend the spam includes the list ['a', 'b', 'c', 'd'] for the next three queries."
   ]
  },
  {
   "cell_type": "markdown",
   "id": "e6133643",
   "metadata": {},
   "source": [
    "Q3. What is the value of spam[int(int('3' * 2) / 11)]?"
   ]
  },
  {
   "cell_type": "markdown",
   "id": "a138645d",
   "metadata": {},
   "source": [
    "'d'"
   ]
  },
  {
   "cell_type": "markdown",
   "id": "47894e54",
   "metadata": {},
   "source": [
    "Q4. What is the value of spam[-1]?"
   ]
  },
  {
   "cell_type": "markdown",
   "id": "784f96c2",
   "metadata": {},
   "source": [
    "'d'"
   ]
  },
  {
   "cell_type": "markdown",
   "id": "6817a992",
   "metadata": {},
   "source": [
    "Q5. What is the value of spam[:2]?"
   ]
  },
  {
   "cell_type": "markdown",
   "id": "8de50b1b",
   "metadata": {},
   "source": [
    "['a', 'b']"
   ]
  },
  {
   "cell_type": "markdown",
   "id": "701e66fc",
   "metadata": {},
   "source": [
    "Let's pretend bacon has the list [3.14, 'cat,' 11, 'cat,' True] for the next three questions."
   ]
  },
  {
   "cell_type": "markdown",
   "id": "82dafdb9",
   "metadata": {},
   "source": [
    "Q6. What is the value of bacon.index('cat')?"
   ]
  },
  {
   "cell_type": "markdown",
   "id": "e5c5ab30",
   "metadata": {},
   "source": [
    "1"
   ]
  },
  {
   "cell_type": "markdown",
   "id": "445848ed",
   "metadata": {},
   "source": [
    "Q7. How does bacon.append(99) change the look of the list value in bacon?"
   ]
  },
  {
   "cell_type": "markdown",
   "id": "82828491",
   "metadata": {},
   "source": [
    "Appends 99 at end of list\n",
    "\n",
    "bacon now contains [3.14, 'cat', 11, 'cat', True, 99]"
   ]
  },
  {
   "cell_type": "markdown",
   "id": "97540bf1",
   "metadata": {},
   "source": [
    "Q8. How does bacon.remove('cat') change the look of the list in bacon?"
   ]
  },
  {
   "cell_type": "markdown",
   "id": "7c9359de",
   "metadata": {},
   "source": [
    "remove removes the first occurence.\n",
    "\n",
    "bacon now contains [3.14, 11, 'cat', True]"
   ]
  },
  {
   "cell_type": "markdown",
   "id": "f3fba32d",
   "metadata": {},
   "source": [
    "Q9. What are the list concatenation and list replication operators?"
   ]
  },
  {
   "cell_type": "markdown",
   "id": "e9174e5a",
   "metadata": {},
   "source": [
    "List concatenation operator is +\n",
    "\n",
    "List replication operator is *"
   ]
  },
  {
   "cell_type": "code",
   "execution_count": 8,
   "id": "ca304890",
   "metadata": {},
   "outputs": [
    {
     "name": "stdout",
     "output_type": "stream",
     "text": [
      "[1, 2, 3, 'a', 'b', 'c']\n",
      "[1, 2, 3, 1, 2, 3]\n"
     ]
    }
   ],
   "source": [
    "list1 = [1, 2, 3]\n",
    "list2 = ['a','b','c']\n",
    "list_concatenate = list1 + list2\n",
    "list_replicate = list1 * 2\n",
    "print(list_concatenate)\n",
    "print(list_replicate)"
   ]
  },
  {
   "cell_type": "markdown",
   "id": "25bd3082",
   "metadata": {},
   "source": [
    "Q10. What is difference between the list methods append() and insert()?"
   ]
  },
  {
   "cell_type": "markdown",
   "id": "1ca4fdd2",
   "metadata": {},
   "source": [
    "append() adds elements to the end of the list.\n",
    "\n",
    "insert() can add elements anywhere in the list as per index supplied by user."
   ]
  },
  {
   "cell_type": "code",
   "execution_count": 26,
   "id": "f1e02d17",
   "metadata": {},
   "outputs": [
    {
     "name": "stdout",
     "output_type": "stream",
     "text": [
      "['a', 'b', 'c', 'd']\n",
      "['a', 'd', 'b', 'c']\n"
     ]
    }
   ],
   "source": [
    "list1 = ['a','b','c']\n",
    "list1.append('d')\n",
    "print(list1)\n",
    "list1 = ['a','b','c']\n",
    "list1.insert(1, 'd')\n",
    "print(list1)"
   ]
  },
  {
   "cell_type": "markdown",
   "id": "30c9d25d",
   "metadata": {},
   "source": [
    "Q11. What are the two methods for removing items from a list?"
   ]
  },
  {
   "cell_type": "markdown",
   "id": "7dc5f887",
   "metadata": {},
   "source": [
    "Two methods for removing items from list are remove() and pop()\n",
    "\n",
    "remove() method uses value as a parameter and raises a ValueError if value does not exist in list.\n",
    "\n",
    "pop() method uses index as a parameter and raises a IndexError if index does not exist in list. Returns the deleted value."
   ]
  },
  {
   "cell_type": "markdown",
   "id": "ac8a28b1",
   "metadata": {},
   "source": [
    "Q12. Describe how list values and string values are identical."
   ]
  },
  {
   "cell_type": "markdown",
   "id": "34a6cf34",
   "metadata": {},
   "source": [
    "Both are iterable. Values can be accessed using indexing operator []. Both can be concatenated, replicated and sliced. Membership operators like in and not in can be used with both."
   ]
  },
  {
   "cell_type": "markdown",
   "id": "4bbb8a66",
   "metadata": {},
   "source": [
    "Q13. What's the difference between tuples and lists?"
   ]
  },
  {
   "cell_type": "markdown",
   "id": "fb8b7bdf",
   "metadata": {},
   "source": [
    "Tuples are immutable and values are enclosed within round brackets ()\n",
    "\n",
    "Lists are mutable and values are enclosed within square brackets []"
   ]
  },
  {
   "cell_type": "markdown",
   "id": "5e4dd059",
   "metadata": {},
   "source": [
    "Q14. How do you type a tuple value that only contains the integer 42?"
   ]
  },
  {
   "cell_type": "code",
   "execution_count": 34,
   "id": "dd7f8346",
   "metadata": {},
   "outputs": [
    {
     "data": {
      "text/plain": [
       "tuple"
      ]
     },
     "execution_count": 34,
     "metadata": {},
     "output_type": "execute_result"
    }
   ],
   "source": [
    "tuple1 = (42,)\n",
    "type(tuple1)"
   ]
  },
  {
   "cell_type": "code",
   "execution_count": 35,
   "id": "55e7abd2",
   "metadata": {},
   "outputs": [
    {
     "data": {
      "text/plain": [
       "tuple"
      ]
     },
     "execution_count": 35,
     "metadata": {},
     "output_type": "execute_result"
    }
   ],
   "source": [
    "tuple2 = 42,\n",
    "type(tuple2)"
   ]
  },
  {
   "cell_type": "markdown",
   "id": "7030187e",
   "metadata": {},
   "source": [
    "Q15. How do you get a list value's tuple form? How do you get a tuple value's list form?"
   ]
  },
  {
   "cell_type": "markdown",
   "id": "f99e4861",
   "metadata": {},
   "source": [
    "List value's tuple form by using tuple() function.\n",
    "\n",
    "Tuple value's list form by using list() function."
   ]
  },
  {
   "cell_type": "markdown",
   "id": "388e9b86",
   "metadata": {},
   "source": [
    "Q16. Variables that \"contain\" list values are not necessarily lists themselves. Instead, what do they contain?"
   ]
  },
  {
   "cell_type": "code",
   "execution_count": 37,
   "id": "65ff88ad",
   "metadata": {},
   "outputs": [
    {
     "name": "stdout",
     "output_type": "stream",
     "text": [
      "[1, 2, 3]\n"
     ]
    }
   ],
   "source": [
    "list1 = [1, 2, 3]\n",
    "list2 = list1\n",
    "#list2 is a variable and it points to list 1 and thus can access all elements of list1.\n",
    "print(list2)"
   ]
  },
  {
   "cell_type": "markdown",
   "id": "f9344632",
   "metadata": {},
   "source": [
    "Q17. How do you distinguish between copy.copy() and copy.deepcopy()?"
   ]
  },
  {
   "cell_type": "markdown",
   "id": "86692ecc",
   "metadata": {},
   "source": [
    "The copy.copy() function will do a shallow copy of a list. Changes made to one list will be reflected in another list.\n",
    "\n",
    "The copy.deepcopy() function will do a deep copy of a list. Changes made to one list will not be reflected in another list."
   ]
  },
  {
   "cell_type": "code",
   "execution_count": null,
   "id": "f07c878f",
   "metadata": {},
   "outputs": [],
   "source": []
  }
 ],
 "metadata": {
  "kernelspec": {
   "display_name": "Python 3 (ipykernel)",
   "language": "python",
   "name": "python3"
  },
  "language_info": {
   "codemirror_mode": {
    "name": "ipython",
    "version": 3
   },
   "file_extension": ".py",
   "mimetype": "text/x-python",
   "name": "python",
   "nbconvert_exporter": "python",
   "pygments_lexer": "ipython3",
   "version": "3.9.7"
  }
 },
 "nbformat": 4,
 "nbformat_minor": 5
}
