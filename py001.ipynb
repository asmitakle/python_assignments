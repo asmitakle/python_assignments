{
 "cells": [
  {
   "cell_type": "markdown",
   "metadata": {},
   "source": [
    "1. In the below elements which of them are values or an expression? eg:- values can be integer or string and expressions will be mathematical operators.\n",
    "*\n",
    "'hello'\n",
    "-87.8\n",
    "- \n",
    "/ \n",
    "+\n",
    "6 "
   ]
  },
  {
   "cell_type": "raw",
   "metadata": {},
   "source": [
    "Ans 1.\n",
    "Mathematical operators = *, -, /, +\n",
    "Values = -87.8, 6, 'hello'"
   ]
  },
  {
   "cell_type": "markdown",
   "metadata": {},
   "source": [
    "2. What is the difference between string and variable?"
   ]
  },
  {
   "cell_type": "raw",
   "metadata": {},
   "source": [
    "Ans 2.\n",
    "String is a value enclosed in single ('hello') or double quotes (\"hello\") or triple quotes (Eg: Multiline string: \"\"\"hello\"\"\").\n",
    "String is immutable. \n",
    "Variable is a named location in memory to store values. \n",
    "Variable can be assigned different values of different types like int, float, str, etc.\n",
    "\n",
    "str1 = \"hello\"\n",
    "Here str1 is a variable and \"hello\" is a string.\n",
    "\n"
   ]
  },
  {
   "cell_type": "markdown",
   "metadata": {},
   "source": [
    "3. Describe three different data types."
   ]
  },
  {
   "cell_type": "raw",
   "metadata": {},
   "source": [
    "Ans 3.\n",
    "1) int: int data type is used to store positive, negative or zero integer values. int numbers cannot have a decimal point.\n",
    "    int is immutable. int can be of any size.\n",
    "    Eg: 1, 0, -3, etc\n",
    "2) list: list can be used to hold several values in a single variable. Values can be of any data type like int, float, list, \n",
    "    tuple, etc. It is a ordered, mutable data type. The values \n",
    "    can be added, modified or removed. Values can be accessed using index numbers. Index number of the first element is 0.\n",
    "    Values are enclosed in square brackets[]. \n",
    "    Eg: [23,\"hello\",[3, 8.0],(4.5,3 + 4i)]\n",
    "3) dict: dict stands for dictionary. It is unordered and mutable. In python 3.6 dict are ordered. \n",
    "    Elements of dict are stored in key:value pairs seperated by ':'. Keys should be of immutable type, values can be of any \n",
    "    type. \n",
    "    Keys cannot be duplicated. Elements of dictionary can be accessed using the keys.\n",
    "    Eg: {\"Student1\" : {\"Name\": \"ABC\", \"Address\": \"Mumbai\", \"Contact\" : \"123\"}}"
   ]
  },
  {
   "cell_type": "markdown",
   "metadata": {},
   "source": [
    "4. What is an expression made up of? What do all expressions do?"
   ]
  },
  {
   "cell_type": "raw",
   "metadata": {},
   "source": [
    "Ans 4.\n",
    "Expression is made of variables, constants, operators, values and function calls. It is constructed based on the syntax of the language.\n",
    "Eg: a + b, max(a,b)\n",
    "Expressions are evaluated to a single value according to precedence and associativity of operators. The result is either dispayed or stored in a variable for later use."
   ]
  },
  {
   "cell_type": "markdown",
   "metadata": {},
   "source": [
    "5. This assignment statements, like spam = 10. What is the difference between an expression and a statement?"
   ]
  },
  {
   "cell_type": "raw",
   "metadata": {},
   "source": [
    "Ans 5.\n",
    "Expression is made of variables, constants, operators, values and function calls and is evaluated by the interpreter to a single result.\n",
    "Statement is a single line of code (instruction) that can be executed by the interpreter.\n",
    "Eg: b+c is an expression, print(b+c) is a statement."
   ]
  },
  {
   "cell_type": "markdown",
   "metadata": {},
   "source": [
    "6. After running the following code, what does the variable bacon contain?\n",
    "bacon = 22\n",
    "bacon + 1"
   ]
  },
  {
   "cell_type": "raw",
   "metadata": {},
   "source": [
    "Ans 6.\n",
    "The variable bacon contains the value 22."
   ]
  },
  {
   "cell_type": "markdown",
   "metadata": {},
   "source": [
    "7. What should the values of the following two terms be?\n",
    "'spam' + 'spamspam'\n",
    "'spam' * 3"
   ]
  },
  {
   "cell_type": "raw",
   "metadata": {},
   "source": [
    "Ans 7.\n",
    "'spam' + 'spamspam' evaluates to 'spamspamspam'\n",
    "'spam' * 3 evaluates to 'spamspamspam'"
   ]
  },
  {
   "cell_type": "markdown",
   "metadata": {},
   "source": [
    "8. Why is eggs a valid variable name while 100 is invalid?"
   ]
  },
  {
   "cell_type": "raw",
   "metadata": {},
   "source": [
    "Ans 8.\n",
    "A valid variable name should start with uppercase or lowercase letter or underscore. It cannot start with a digit or contain any special characters (except underscore).\n",
    "Therefore, eggs is a valid variable name while 100 is not."
   ]
  },
  {
   "cell_type": "markdown",
   "metadata": {},
   "source": [
    "9. What three functions can be used to get the integer, floating-point number, or string version of a value?"
   ]
  },
  {
   "cell_type": "raw",
   "metadata": {},
   "source": [
    "Ans 9.\n",
    "The functions which can be used to get the integer, floating-point number, string version of a value is int(), float() and str() respectively."
   ]
  },
  {
   "cell_type": "markdown",
   "metadata": {},
   "source": [
    "10. Why does this expression cause an error? How can you fix it?\n",
    "'I have eaten ' + 99 + ' burritos.'"
   ]
  },
  {
   "cell_type": "raw",
   "metadata": {},
   "source": [
    "Ans 10.\n",
    "The expression causes an error because an integer cannot be concatenated with a string.\n",
    "To fix this error we should convert the integer to a string by enclosing it in single/double quotes or typecasting the integer to a string\n",
    "'I have eaten ' + '99' + ' burritos'.\n",
    "'I have eaten ' + str(99) + ' burritos'."
   ]
  }
 ],
 "metadata": {
  "kernelspec": {
   "display_name": "Python 3",
   "language": "python",
   "name": "python3"
  },
  "language_info": {
   "codemirror_mode": {
    "name": "ipython",
    "version": 3
   },
   "file_extension": ".py",
   "mimetype": "text/x-python",
   "name": "python",
   "nbconvert_exporter": "python",
   "pygments_lexer": "ipython3",
   "version": "3.7.6"
  }
 },
 "nbformat": 4,
 "nbformat_minor": 5
}
