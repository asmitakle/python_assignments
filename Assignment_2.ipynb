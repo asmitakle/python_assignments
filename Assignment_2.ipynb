{
 "cells": [
  {
   "cell_type": "markdown",
   "id": "3d7b2701",
   "metadata": {},
   "source": [
    "1. What are the two values of the Boolean data type? How do you write them?\n",
    "\n",
    "True and False"
   ]
  },
  {
   "cell_type": "markdown",
   "id": "f563bc6f",
   "metadata": {},
   "source": [
    "2. What are the three different types of Boolean operators?\n",
    "\n",
    "not, and, or"
   ]
  },
  {
   "cell_type": "markdown",
   "id": "d2a01497",
   "metadata": {},
   "source": [
    "3. Make a list of each Boolean operator's truth tables (i.e. every possible combination of Boolean values for the operator and what it evaluate ).\n",
    "\n",
    "And\n",
    "T T = T;\n",
    "T F = F;\n",
    "F T = F;\n",
    "F F = F\n",
    "\n",
    "Or\n",
    "T T = T;\n",
    "T F = F;\n",
    "F T = F;\n",
    "F F = F\n",
    "\n",
    "Not\n",
    "T = F;\n",
    "F = T"
   ]
  },
  {
   "cell_type": "markdown",
   "id": "872940c0",
   "metadata": {},
   "source": [
    "4. What are the values of the following expressions?\n",
    "(5 > 4) and (3 == 5)\n",
    "not (5 > 4)\n",
    "(5 > 4) or (3 == 5)\n",
    "not ((5 > 4) or (3 == 5))\n",
    "(True and True) and (True == False)\n",
    "(not False) or (not True)\n",
    "\n",
    "False\n",
    "False\n",
    "True\n",
    "False\n",
    "False\n",
    "True"
   ]
  },
  {
   "cell_type": "markdown",
   "id": "9611257a",
   "metadata": {},
   "source": [
    "5. What are the six comparison operators?\n",
    "\n",
    "<, >, <=, >=, ==, !="
   ]
  },
  {
   "cell_type": "markdown",
   "id": "29d018fb",
   "metadata": {},
   "source": [
    "6. How do you tell the difference between the equal to and assignment operators? Describe a condition and when you would use one.\n",
    "\n",
    "== is the equal to operator; checks if the left hand side value/variable and the right hand side value/variable are same. Returns True or False.\n",
    "= is the assignment operator; assigns the right hand side value/variable to the left hand side variable.\n",
    "\n",
    "== is used when we have to check the equality of two elements, = is used to assign/re-assign a value to a variable.\n",
    "Eg:"
   ]
  },
  {
   "cell_type": "code",
   "execution_count": 19,
   "id": "9313d52b",
   "metadata": {},
   "outputs": [],
   "source": [
    "a = b = 2\n",
    "i = 0\n",
    "if a==b:\n",
    "        i = i+1"
   ]
  },
  {
   "cell_type": "markdown",
   "id": "c5a8a8ff",
   "metadata": {},
   "source": [
    "7. Identify the three blocks in this code:\n",
    "spam = 0\n",
    "if spam == 10:\n",
    "print('eggs')\n",
    "if spam > 5:\n",
    "print('bacon')\n",
    "else:\n",
    "print('ham')\n",
    "print('spam')\n",
    "print('spam')\n",
    "\n",
    "The three blocks of code are:\n",
    "print('eggs')\n",
    "print('bacon')\n",
    "print('ham')"
   ]
  },
  {
   "cell_type": "markdown",
   "id": "506905cb",
   "metadata": {},
   "source": [
    "8. Write code that prints Hello if 1 is stored in spam, prints Howdy if 2 is stored in spam, and prints Greetings! if anything else is stored in spam."
   ]
  },
  {
   "cell_type": "code",
   "execution_count": 13,
   "id": "c1f199d1",
   "metadata": {},
   "outputs": [
    {
     "name": "stdout",
     "output_type": "stream",
     "text": [
      "2\n",
      "Howdy\n"
     ]
    }
   ],
   "source": [
    "spam = input()\n",
    "if spam == \"1\":\n",
    "    print(\"Hello\")\n",
    "elif spam == \"2\":\n",
    "    print(\"Howdy\")\n",
    "else:\n",
    "    print(\"Greetings!\")"
   ]
  },
  {
   "cell_type": "markdown",
   "id": "d0982690",
   "metadata": {},
   "source": [
    "9. If your programme is stuck in an endless loop, what keys you’ll press?\n",
    "\n",
    "Ctrl + C"
   ]
  },
  {
   "cell_type": "markdown",
   "id": "0629f8ff",
   "metadata": {},
   "source": [
    "10. How can you tell the difference between break and continue?\n",
    "\n",
    "break takes the control just out of the current loop.\n",
    "continue takes the control to the start of the loop at the next iteration."
   ]
  },
  {
   "cell_type": "markdown",
   "id": "89901138",
   "metadata": {},
   "source": [
    "11. In a for loop, what is the difference between range(10), range(0, 10), and range(0, 10, 1)?\n",
    "\n",
    "All serve the same purpose.\n",
    "range(10); upto end point is stated, default is start from 0, increment by 1\n",
    "range(0, 10); start and upto end point is stated, default is increment by 1\n",
    "range(0, 10, 1); start, upto end point and increment, all are stated."
   ]
  },
  {
   "cell_type": "markdown",
   "id": "5cd891b0",
   "metadata": {},
   "source": [
    "12. Write a short program that prints the numbers 1 to 10 using a for loop. Then write an equivalent program that prints the numbers 1 to 10 using a while loop."
   ]
  },
  {
   "cell_type": "code",
   "execution_count": 14,
   "id": "9dfc03b5",
   "metadata": {},
   "outputs": [
    {
     "name": "stdout",
     "output_type": "stream",
     "text": [
      "1\n",
      "2\n",
      "3\n",
      "4\n",
      "5\n",
      "6\n",
      "7\n",
      "8\n",
      "9\n",
      "10\n"
     ]
    }
   ],
   "source": [
    "for i in range(1, 11):\n",
    "    print(i)"
   ]
  },
  {
   "cell_type": "code",
   "execution_count": 15,
   "id": "5be983b9",
   "metadata": {},
   "outputs": [
    {
     "name": "stdout",
     "output_type": "stream",
     "text": [
      "1\n",
      "2\n",
      "3\n",
      "4\n",
      "5\n",
      "6\n",
      "7\n",
      "8\n",
      "9\n",
      "10\n"
     ]
    }
   ],
   "source": [
    "i = 1\n",
    "while i<=10:\n",
    "    print(i)\n",
    "    i += 1"
   ]
  },
  {
   "cell_type": "markdown",
   "id": "03041585",
   "metadata": {},
   "source": [
    "13. If you had a function named bacon() inside a module named spam, how would you call it after importing spam?\n",
    "\n",
    "spam.bacon()"
   ]
  }
 ],
 "metadata": {
  "kernelspec": {
   "display_name": "Python 3 (ipykernel)",
   "language": "python",
   "name": "python3"
  },
  "language_info": {
   "codemirror_mode": {
    "name": "ipython",
    "version": 3
   },
   "file_extension": ".py",
   "mimetype": "text/x-python",
   "name": "python",
   "nbconvert_exporter": "python",
   "pygments_lexer": "ipython3",
   "version": "3.9.7"
  }
 },
 "nbformat": 4,
 "nbformat_minor": 5
}
